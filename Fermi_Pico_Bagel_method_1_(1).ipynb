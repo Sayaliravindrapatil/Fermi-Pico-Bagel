{
  "cells": [
    {
      "cell_type": "markdown",
      "metadata": {
        "id": "view-in-github",
        "colab_type": "text"
      },
      "source": [
        "<a href=\"https://colab.research.google.com/github/Sayaliravindrapatil/Fermi-Pico-Bagel/blob/main/Fermi_Pico_Bagel_method_1_(1).ipynb\" target=\"_parent\"><img src=\"https://colab.research.google.com/assets/colab-badge.svg\" alt=\"Open In Colab\"/></a>"
      ]
    },
    {
      "cell_type": "markdown",
      "id": "0b55c9a8",
      "metadata": {
        "id": "0b55c9a8"
      },
      "source": [
        "## Fermi Pico Bagel\n",
        "Try playing game and understand the rules : https://communicrossings.com/html/js/pfb.htm\n",
        "\n",
        "## Step 1\n",
        "Store any number in string format(number to be guessed by player) in a variable `original_number`.\n",
        "\n",
        "For Example: original_number = '123'\n"
      ]
    },
    {
      "cell_type": "code",
      "execution_count": null,
      "id": "57a0a2d0",
      "metadata": {
        "id": "57a0a2d0"
      },
      "outputs": [],
      "source": [
        "original_number=\"123\""
      ]
    },
    {
      "cell_type": "markdown",
      "id": "fd43340c",
      "metadata": {
        "id": "fd43340c"
      },
      "source": [
        "## Step 2\n",
        "Take a number as user input and save it in a variable `guess_number`.(Make sure that the datatype of guess_number is same as of original number i.e- `str`)"
      ]
    },
    {
      "cell_type": "code",
      "execution_count": null,
      "id": "2e0075a7",
      "metadata": {
        "colab": {
          "base_uri": "https://localhost:8080/"
        },
        "id": "2e0075a7",
        "outputId": "32fc1f59-4374-429b-8fc2-727532121a6c"
      },
      "outputs": [
        {
          "name": "stdout",
          "output_type": "stream",
          "text": [
            "135\n"
          ]
        }
      ],
      "source": [
        "guess_number=input()"
      ]
    },
    {
      "cell_type": "markdown",
      "id": "22318243",
      "metadata": {
        "id": "22318243"
      },
      "source": [
        "## Step 3\n",
        "Check if total number of digits in `original_number` and `guess_number` is not same(Use `len()` function) then ask user for valid input.(First use `len()` to get total digits in `original_number` and `guess_number`.)"
      ]
    },
    {
      "cell_type": "code",
      "execution_count": null,
      "id": "258e2971",
      "metadata": {
        "id": "258e2971"
      },
      "outputs": [],
      "source": [
        "if len(original_number)!=len(guess_number):\n",
        "  print(\"invalid input\")"
      ]
    },
    {
      "cell_type": "markdown",
      "id": "0c064bda",
      "metadata": {
        "id": "0c064bda"
      },
      "source": [
        "## Step 4\n",
        "Using `set()`, check if the digits are repeated in a `guess_number` .\n",
        "Note that datatype `set` allows unique values only.\n",
        "\n",
        "For ex. if `user_input`is 122, then it should print the string 'Duplicate number'  as digit 2 is repeated."
      ]
    },
    {
      "cell_type": "code",
      "source": [
        "\n",
        "if len(set(guess_number)) < 3:\n",
        "  print(\"duplicate number\")\n"
      ],
      "metadata": {
        "id": "pLmeJsCOtnSF"
      },
      "id": "pLmeJsCOtnSF",
      "execution_count": null,
      "outputs": []
    },
    {
      "cell_type": "markdown",
      "id": "0514b8d9",
      "metadata": {
        "id": "0514b8d9"
      },
      "source": [
        "## Step 5\n",
        "Check winning condition i.e. if both `guess_number` and `original_number` are same, then print 'Fermi' as many number of times as number of digits in a number and print ' You win !! '.\n"
      ]
    },
    {
      "cell_type": "code",
      "execution_count": null,
      "id": "ab9379a5",
      "metadata": {
        "id": "ab9379a5"
      },
      "outputs": [],
      "source": [
        "if guess_number==original_number:\n",
        "  print(\"Fermi \"*3)"
      ]
    },
    {
      "cell_type": "markdown",
      "id": "96eca378",
      "metadata": {
        "id": "96eca378"
      },
      "source": [
        "## Step 6\n",
        "Create empty list called `output` where we will store the output in the form of list.\n",
        "\n",
        "For example: output = [ ' Fermi ', ' Pico ' ,' Pico ' ] ."
      ]
    },
    {
      "cell_type": "code",
      "execution_count": null,
      "id": "c047a839",
      "metadata": {
        "id": "c047a839"
      },
      "outputs": [],
      "source": [
        "output=[]"
      ]
    },
    {
      "cell_type": "markdown",
      "id": "4949309d",
      "metadata": {
        "id": "4949309d"
      },
      "source": [
        "## Step 7\n",
        "Check if any digit and it's position in both `guess_number` and `original_number` are same then append 'Fermi' to `output` list or if only digit matches and not the position then append 'Pico' to `output`.\n"
      ]
    },
    {
      "cell_type": "code",
      "execution_count": null,
      "id": "7dbe3800",
      "metadata": {
        "id": "7dbe3800",
        "colab": {
          "base_uri": "https://localhost:8080/"
        },
        "outputId": "1e4347e0-b96f-48e6-b091-560edfb3ce17"
      },
      "outputs": [
        {
          "output_type": "stream",
          "name": "stdout",
          "text": [
            "Fermi\n",
            "Fermi\n",
            "Fermi\n"
          ]
        }
      ],
      "source": [
        "## Your code goes here \n",
        "for i, val in enumerate (guess_number): \n",
        "  if guess_number[i]==original_number[i]:\n",
        "    a=\"Fermi\"\n",
        "    print(a)\n",
        "  if guess_number[i]!=original_number[i]:\n",
        "    b=\"pico\"\n",
        "    print(b)"
      ]
    },
    {
      "cell_type": "markdown",
      "id": "59e62457",
      "metadata": {
        "id": "59e62457"
      },
      "source": [
        "## Step 8\n",
        "Define a variable called `output_string` which has all values from a list `output` with each value separated by space. (Use 'for' loop to get all the values from a list `output`.)"
      ]
    },
    {
      "cell_type": "code",
      "execution_count": null,
      "id": "d15c8f60",
      "metadata": {
        "id": "d15c8f60"
      },
      "outputs": [],
      "source": [
        "output_string=output\n",
        "for k in output:\n",
        "  print(k)\n",
        "  output_string.append(k)"
      ]
    },
    {
      "cell_type": "markdown",
      "id": "f3f50bef",
      "metadata": {
        "id": "f3f50bef"
      },
      "source": [
        "## Step 9\n",
        "Check if neither any digit nor any position matches i.e. if length of `output` list is zero then print `Bagel`.\n",
        "\n",
        "Otherwise print `output_string`."
      ]
    },
    {
      "cell_type": "code",
      "execution_count": null,
      "id": "3c568356",
      "metadata": {
        "id": "3c568356",
        "colab": {
          "base_uri": "https://localhost:8080/"
        },
        "outputId": "8c538677-696e-4dcc-eba9-83da809320bf"
      },
      "outputs": [
        {
          "output_type": "stream",
          "name": "stdout",
          "text": [
            "bagel\n"
          ]
        }
      ],
      "source": [
        "if guess_number[i]!=original_number:\n",
        "  if len(list(output))==0:\n",
        "    print(\"bagel\")"
      ]
    },
    {
      "cell_type": "markdown",
      "id": "9d4a684d",
      "metadata": {
        "id": "9d4a684d"
      },
      "source": [
        "## Step 10\n",
        "\n",
        "## Complete game\n",
        "Here use continue and break statements at appropriate places."
      ]
    },
    {
      "cell_type": "code",
      "execution_count": null,
      "id": "79843cdf",
      "metadata": {
        "id": "79843cdf",
        "colab": {
          "base_uri": "https://localhost:8080/"
        },
        "outputId": "9f2057c6-6823-42ca-ecff-7836d4062ca6"
      },
      "outputs": [
        {
          "output_type": "stream",
          "name": "stdout",
          "text": [
            "225\n",
            "duplicate number\n",
            "['pico', 'Fermi']\n",
            "231561\n",
            "invalid input\n",
            "123\n",
            "Fermi Fermi Fermi \n"
          ]
        }
      ],
      "source": [
        "original_number=\"123\"\n",
        "\n",
        "while True:\n",
        "  guess_number=input()\n",
        "  output=[]\n",
        "  if len(original_number)!=len(guess_number):\n",
        "    print(\"invalid input\")\n",
        "    continue\n",
        "  if len(set(guess_number)) < 3:\n",
        "    print(\"duplicate number\")\n",
        "  if guess_number==original_number:\n",
        "    s=\"Fermi \"*3\n",
        "    print(s)\n",
        "    break\n",
        "  for i, val in enumerate (guess_number): \n",
        "    if guess_number[i]==original_number[i]:\n",
        "      a=\"Fermi\"\n",
        "      output.append(a)\n",
        "    elif guess_number[i] in original_number:\n",
        "      b=\"pico\"\n",
        "      output.append(b)\n",
        "  output_string=[]\n",
        "  for k in output:\n",
        "      output_string.append(k)\n",
        "  print(output_string)\n",
        "  if guess_number[i]!=original_number:\n",
        "    if len(list(output))==0:\n",
        "      print(\"bagel\")\n",
        "\n",
        "\n"
      ]
    },
    {
      "cell_type": "code",
      "source": [],
      "metadata": {
        "id": "-QQev2XEwET4"
      },
      "id": "-QQev2XEwET4",
      "execution_count": null,
      "outputs": []
    }
  ],
  "metadata": {
    "kernelspec": {
      "display_name": "Python 3",
      "language": "python",
      "name": "python3"
    },
    "language_info": {
      "codemirror_mode": {
        "name": "ipython",
        "version": 3
      },
      "file_extension": ".py",
      "mimetype": "text/x-python",
      "name": "python",
      "nbconvert_exporter": "python",
      "pygments_lexer": "ipython3",
      "version": "3.8.8"
    },
    "colab": {
      "provenance": [],
      "include_colab_link": true
    }
  },
  "nbformat": 4,
  "nbformat_minor": 5
}